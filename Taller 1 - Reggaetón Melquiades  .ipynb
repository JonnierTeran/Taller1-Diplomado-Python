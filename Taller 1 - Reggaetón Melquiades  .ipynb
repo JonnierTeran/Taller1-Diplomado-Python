{
 "cells": [
  {
   "cell_type": "code",
   "execution_count": null,
   "id": "a67100cd",
   "metadata": {},
   "outputs": [],
   "source": []
  },
  {
   "cell_type": "markdown",
   "id": "86f35207",
   "metadata": {},
   "source": [
    "**SOLUCION DEL TALLER N1**\n",
    "**DIPLOMADO PYTHON APLICADO A LA INGENIERIA**\n",
    "\n",
    "    *Autor: Jonnier Andres Teran Morales\n",
    "    *id: 1003064599\n",
    "    *Correo= Jonnierteranmorales\n",
    "    *Cel: 3245644212\n",
    " \n",
    " Pd: Realice el ejercicio poe medio de 2 metodos diferentes de la libreria random, usando random.choice() y el otro random.randint() , adjunto ambos codigos."
   ]
  },
  {
   "cell_type": "code",
   "execution_count": null,
   "id": "eea26416",
   "metadata": {},
   "outputs": [],
   "source": [
    "import random # se importa l a librería de python random\n",
    "\n",
    "Cantante= input(\"Ingrese aqui el nombre del cantante: \")\n",
    "\n",
    "sujetos = [\"mami \", \"Bebé \", \"princess \" , \"mami \"] #se define una l i s t a\n",
    "intenciones = [\"yo quiero \", \"yo puedo \", \"yo vengo a \" , \"voy a \" ]\n",
    "verbos = [\"encendelte \", \"amalte \", \"ligal \" , \"jugal \" ]\n",
    "advs = [\"suave \", \"lento \" , \"lápido\", \"fuelte \" ]\n",
    "complementos_uno = [\"hasta que salga el sol \" , \"toda la noche \",\"hasta el amanecer \", \"todo el día \"]\n",
    "complementos_dos = [ \"sin anestesia \", \"sin compromiso \", \"feis to feis \", \" sin miedo\"]\n",
    "\n",
    "Cancion= [sujetos[random.randint(0,3)]+ intenciones[random.randint(0,3)]+verbos[random.randint(0,3)]+advs[random.randint(0,3)]+complementos_uno[random.randint(0,3)]+complementos_dos[random.randint(0,3)]]\n",
    "\n",
    "print( \"Letra generada:\" + str(Cancion) + \" Lo dice \" +Cantante ) # se imprime l a canción\n",
    "\n",
    "    \n",
    "    "
   ]
  },
  {
   "cell_type": "code",
   "execution_count": null,
   "id": "f729eb4a",
   "metadata": {},
   "outputs": [],
   "source": [
    "import random # se importa l a librería de python random\n",
    "\n",
    "Cantante= input(\"Ingrese aqui el nombre del cantante: \")\n",
    "\n",
    "sujetos = [\"mami \", \"Bebé \", \"princess \" , \"mami \"] #se define una l i s t a\n",
    "intenciones = [\"yo quiero \", \"yo puedo \", \"yo vengo a \" , \"voy a \" ]\n",
    "verbos = [\"encendelte \", \"amalte \", \"ligal \" , \"jugal \" ]\n",
    "advs = [\"suave \", \"lento \" , \"lápido\", \"fuelte \" ]\n",
    "complementos_uno = [\"hasta que salga el sol \" , \"toda la noche \",\"hasta el amanecer \", \"todo el día \"]\n",
    "complementos_dos = [ \"sin anestesia \", \"sin compromiso \", \"feis to feis \", \" sin miedo\"]\n",
    "\n",
    "sujeto_seleccionado = random.choice(sujetos)  # se utiliza la librería\n",
    "intencion_seleccionada = random.choice(intenciones) #para seleccionar un elemento Aleatoriamente\n",
    "verbo_seleccionado = random.choice(verbos) # al azar de La lista sujetos\n",
    "adv_seleccionado = random.choice(advs)\n",
    "compl1s_seleccionado = random.choice(complementos_uno)\n",
    "compl2s_seleccionado = random.choice(complementos_dos)\n",
    "\n",
    "\n",
    "print( \"Letra generada: \" +Cantante +\" \"+ sujeto_seleccionado + \" \"+ intencion_seleccionada + \" \" + verbo_seleccionado + \" \"+ adv_seleccionado + \" \" + compl1s_seleccionado + \" \"+ compl2s_seleccionado) # se imprime l a canción\n",
    "\n",
    "    "
   ]
  }
 ],
 "metadata": {
  "kernelspec": {
   "display_name": "Python 3 (ipykernel)",
   "language": "python",
   "name": "python3"
  },
  "language_info": {
   "codemirror_mode": {
    "name": "ipython",
    "version": 3
   },
   "file_extension": ".py",
   "mimetype": "text/x-python",
   "name": "python",
   "nbconvert_exporter": "python",
   "pygments_lexer": "ipython3",
   "version": "3.9.12"
  }
 },
 "nbformat": 4,
 "nbformat_minor": 5
}
